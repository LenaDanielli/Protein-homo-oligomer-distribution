{
 "cells": [
  {
   "cell_type": "markdown",
   "metadata": {},
   "source": [
    "# 1. Import all packages"
   ]
  },
  {
   "cell_type": "code",
   "execution_count": 1,
   "metadata": {},
   "outputs": [],
   "source": [
    "import pandas as pd\n",
    "import numpy as np\n",
    "import matplotlib.pyplot  as plt\n",
    "import seaborn as sns\n",
    "from pandas import ExcelWriter\n",
    "\n",
    "\n",
    "\n",
    "\n",
    "\n",
    "%matplotlib inline"
   ]
  },
  {
   "cell_type": "markdown",
   "metadata": {},
   "source": [
    "# 2. Define list of all organisms: name, UniProt ID, Data file, Type"
   ]
  },
  {
   "cell_type": "code",
   "execution_count": 2,
   "metadata": {},
   "outputs": [],
   "source": [
    "organisms = [\n",
    "                    [\"Escherichia coli\",         \"up000000625\", \n",
    "                     'uniprot-proteome_UP000000625.xlsx', \"Prokaryote\"],\n",
    "    \n",
    "                    [\"Helicobacter pylori\",      \"up000000429\", \n",
    "                     'uniprot-proteome_UP000000429.xlsx', \"Prokaryote\"],\n",
    "    \n",
    "                    [\"Bacillus subtilis\",        \"up000001570\", \n",
    "                     'uniprot-proteome_UP000001570.xlsx', \"Prokaryote\"],\n",
    "    \n",
    "                    [\"Dictyostelium discoideum\", \"up000002195\",\n",
    "                     'uniprot-proteome_UP000002195.xlsx', \"Eukaryote, unicellular\"],\n",
    "    \n",
    "                    [\"Saccharomyces cerevisiae\", \"up000002311\",\n",
    "                     'uniprot-proteome_UP000002311.xlsx', \"Eukaryote, unicellular\"],\n",
    "    \n",
    "                    [\"Drosophila melanogaster\",  \"up000000803\", \n",
    "                     'uniprot-proteome_UP000000803.xlsx', \"Eukaryote\"],\n",
    "    \n",
    "                    [\"Mus musculus\",             \"up000000589\", \n",
    "                     'uniprot-proteome_UP000000589.xlsx', \"Eukaryote\"],\n",
    "    \n",
    "                    [\"Zebrafish\",                \"up000000437\", \n",
    "                     'uniprot-proteome_UP000000437.xlsx', \"Eukaryote\"],\n",
    "    \n",
    "                    [\"Homo sapiens\",             \"up000005640\", \n",
    "                     'uniprot-proteome_UP000005640.xlsx', \"Eukaryote\"],\n",
    "            ]\n",
    "\n",
    "\n"
   ]
  },
  {
   "cell_type": "markdown",
   "metadata": {},
   "source": [
    "\n",
    "\n",
    "\n",
    "\n",
    "\n",
    "\n",
    "\n",
    "\n",
    "# 3. Define protein composition nomenclature"
   ]
  },
  {
   "cell_type": "code",
   "execution_count": 3,
   "metadata": {},
   "outputs": [],
   "source": [
    "oligomer_degree = [ \n",
    "                    [\"Monomer\",      1, \"1-mer\"], \n",
    "                    [\"Homodimer\",    2, \"2-mer\"],\n",
    "                    [\"Homotrimer\",   3, \"3-mer\"],\n",
    "                    [\"Homotetramer\", 4, \"4-mer\"],\n",
    "                    [\"Homopentamer\", 5, \"5-mer\"],\n",
    "                    [\"Homohexamer\",  6, \"6-mer\"],\n",
    "                    [\"Homoheptamer\", 7, \"7-mer\"],\n",
    "                    [\"Homooctamer\",  8, \"8-mer\"]\n",
    "                  ]"
   ]
  },
  {
   "cell_type": "markdown",
   "metadata": {},
   "source": [
    "# 4. Define Gene Ontology (GO) sub classes list"
   ]
  },
  {
   "cell_type": "code",
   "execution_count": 4,
   "metadata": {},
   "outputs": [],
   "source": [
    "gene_ontology_ml =     [ \n",
    "                            [\"GO_0003824\",\"catalytic\"],\n",
    "                            [\"GO_0005215\",\"transporter\"],\n",
    "                            [\"GO_0005488\",\"binding\"], \n",
    "                            [\"GO_0140110\",\"transcription regulator\"]\n",
    "                       ]\n",
    "\n",
    "gene_ontology_cc =     [ \n",
    "                            [\"GO_0044425\", \"membrane part\"],\n",
    "                            [\"GO_0044464\", \"cell part\"]\n",
    "                            \n",
    "                       ]\n",
    "\n",
    "gene_ontology_cc_cp =  [ \n",
    "                            [\"GO_0031224\", \"intrinsic component of membrane\"],\n",
    "                            [\"GO_0042597\", \"periplasmic space\"],\n",
    "                            [\"GO_0005886\", \"plasma membrane\"],                            \n",
    "                            [\"GO_0005829\", \"cytosol\"]                            \n",
    "                       ]\n",
    "\n",
    "gene_ontology_bp     = [ \n",
    "                            [\"GO_0008152\", \"metabolic process\"],                            \n",
    "                            [\"GO_0009987\", \"cellular process\"],\n",
    "                            [\"GO_0050896\", \"response to stimulus\"],\n",
    "                            [\"GO_0051179\", \"localization\"],\n",
    "                            [\"GO_0065007\", \"biological regulation\"],    \n",
    "                            [\"GO_0071840\", \"cellular component organization\"],\n",
    "                       ]\n",
    "\n",
    "gene_ontology_bp_mp  = [ \n",
    "                            [\"GO_0006807\", \"nitrogen compound\"],                            \n",
    "                            [\"GO_0009056\", \"catabolic process\"],\n",
    "                            [\"GO_0009058\", \"biosynthetic process\"],\n",
    "                            [\"GO_0055114\", \"oxidation-reduction process\"],\n",
    "                       ]\n"
   ]
  },
  {
   "cell_type": "markdown",
   "metadata": {},
   "source": [
    "# 5. Define Gene Ontology (GO) classes list"
   ]
  },
  {
   "cell_type": "code",
   "execution_count": 5,
   "metadata": {},
   "outputs": [],
   "source": [
    "gene_ontology =  [\n",
    "                    [\"Molecular function\",                   \n",
    "                     gene_ontology_ml,    \"GO:0003674\"],\n",
    "    \n",
    "                    [\"Cellular Component\",                    \n",
    "                     gene_ontology_cc,    \"GO:0005575\"],\n",
    "    \n",
    "                    [\"Cellular Component - cell part\",        \n",
    "                     gene_ontology_cc_cp, \"GO:0044464\"],\n",
    "    \n",
    "                    [\"Biological process\",                    \n",
    "                     gene_ontology_bp,    \"GO:0008150\"],\n",
    "    \n",
    "                    [\"Biological process - metabolic process\",\n",
    "                     gene_ontology_bp_mp, \"GO:0008152\"]\n",
    "                 ]"
   ]
  },
  {
   "cell_type": "markdown",
   "metadata": {},
   "source": [
    "# 6. Function that calculate frequency of homo-oligomers in proteome"
   ]
  },
  {
   "cell_type": "code",
   "execution_count": 6,
   "metadata": {},
   "outputs": [],
   "source": [
    "def find_freq(df):\n",
    "    df_freq = pd.DataFrame()    \n",
    "\n",
    "    pro_count = np.zeros(len(oligomer_degree))\n",
    "\n",
    "    for idx, degree in enumerate(oligomer_degree):\n",
    "         pro_count[idx] = len(df[df['Subunit structure [CC]'].\n",
    "                                 str.startswith(\"SUBUNIT: \"+degree[0],\n",
    "                                                na=False)])\n",
    "        \n",
    "    pro_number = sum(pro_count)\n",
    "    pro_freq = np.array([ pro_count / pro_number])\n",
    "    \n",
    "    df_freq = pd.DataFrame()\n",
    "    df_freq[\"type\"] = [i[2] for i in oligomer_degree] \n",
    "    df_freq[\"subunits\"] = [i[1] for i in oligomer_degree] \n",
    "    df_freq[\"count\"] = pro_count.T\n",
    "    df_freq[\"frequency\"] = pro_freq.T\n",
    "    \n",
    "    #print(pro_number)\n",
    "    #print(df_freq)\n",
    "\n",
    "    return df_freq, np.sum(pro_count)"
   ]
  },
  {
   "cell_type": "markdown",
   "metadata": {},
   "source": [
    "# 7. Function that save results to ecxel file"
   ]
  },
  {
   "cell_type": "code",
   "execution_count": 7,
   "metadata": {},
   "outputs": [],
   "source": [
    "def save_excel(df_all, exl_file):\n",
    "    writer = ExcelWriter(exl_file)\n",
    "    df_all.to_excel(writer)\n",
    "    writer.save()"
   ]
  },
  {
   "cell_type": "markdown",
   "metadata": {},
   "source": [
    "# 8. Procedure that calculate homo-oligomers distribution based on GO classification"
   ]
  },
  {
   "cell_type": "code",
   "execution_count": 8,
   "metadata": {},
   "outputs": [
    {
     "ename": "FileNotFoundError",
     "evalue": "[Errno 2] No such file or directory: '.\\\\Escherichia coli\\\\Molecular function\\\\uniprot_GO_0003824.xlsx'",
     "output_type": "error",
     "traceback": [
      "\u001b[1;31m---------------------------------------------------------------------------\u001b[0m",
      "\u001b[1;31mFileNotFoundError\u001b[0m                         Traceback (most recent call last)",
      "\u001b[1;32m<ipython-input-8-c710d8d07da7>\u001b[0m in \u001b[0;36m<module>\u001b[1;34m\u001b[0m\n\u001b[0;32m      4\u001b[0m     \u001b[1;32mfor\u001b[0m \u001b[0msub_go\u001b[0m \u001b[1;32min\u001b[0m \u001b[0mgo\u001b[0m\u001b[1;33m[\u001b[0m\u001b[1;36m1\u001b[0m\u001b[1;33m]\u001b[0m\u001b[1;33m:\u001b[0m\u001b[1;33m\u001b[0m\u001b[1;33m\u001b[0m\u001b[0m\n\u001b[0;32m      5\u001b[0m         \u001b[0mfile\u001b[0m \u001b[1;33m=\u001b[0m \u001b[1;34mr'.\\%s\\%s\\uniprot_%s.xlsx'\u001b[0m \u001b[1;33m%\u001b[0m \u001b[1;33m(\u001b[0m\u001b[0morganim\u001b[0m\u001b[1;33m[\u001b[0m\u001b[1;36m0\u001b[0m\u001b[1;33m]\u001b[0m\u001b[1;33m,\u001b[0m\u001b[0mgo\u001b[0m\u001b[1;33m[\u001b[0m\u001b[1;36m0\u001b[0m\u001b[1;33m]\u001b[0m\u001b[1;33m,\u001b[0m \u001b[0msub_go\u001b[0m\u001b[1;33m[\u001b[0m\u001b[1;36m0\u001b[0m\u001b[1;33m]\u001b[0m\u001b[1;33m)\u001b[0m\u001b[1;33m\u001b[0m\u001b[1;33m\u001b[0m\u001b[0m\n\u001b[1;32m----> 6\u001b[1;33m         \u001b[0mdf_t\u001b[0m\u001b[1;33m,\u001b[0m\u001b[0mknown\u001b[0m \u001b[1;33m=\u001b[0m \u001b[0mfind_freq\u001b[0m\u001b[1;33m(\u001b[0m\u001b[0mpd\u001b[0m\u001b[1;33m.\u001b[0m\u001b[0mread_excel\u001b[0m\u001b[1;33m(\u001b[0m\u001b[0mfile\u001b[0m\u001b[1;33m)\u001b[0m\u001b[1;33m)\u001b[0m\u001b[1;33m\u001b[0m\u001b[1;33m\u001b[0m\u001b[0m\n\u001b[0m\u001b[0;32m      7\u001b[0m \u001b[1;33m\u001b[0m\u001b[0m\n\u001b[0;32m      8\u001b[0m         \u001b[1;32mif\u001b[0m \u001b[0mknown\u001b[0m \u001b[1;33m>=\u001b[0m \u001b[1;36m30\u001b[0m\u001b[1;33m:\u001b[0m\u001b[1;33m\u001b[0m\u001b[1;33m\u001b[0m\u001b[0m\n",
      "\u001b[1;32m~\\AppData\\Local\\Continuum\\anaconda3\\lib\\site-packages\\pandas\\util\\_decorators.py\u001b[0m in \u001b[0;36mwrapper\u001b[1;34m(*args, **kwargs)\u001b[0m\n\u001b[0;32m    206\u001b[0m                 \u001b[1;32melse\u001b[0m\u001b[1;33m:\u001b[0m\u001b[1;33m\u001b[0m\u001b[1;33m\u001b[0m\u001b[0m\n\u001b[0;32m    207\u001b[0m                     \u001b[0mkwargs\u001b[0m\u001b[1;33m[\u001b[0m\u001b[0mnew_arg_name\u001b[0m\u001b[1;33m]\u001b[0m \u001b[1;33m=\u001b[0m \u001b[0mnew_arg_value\u001b[0m\u001b[1;33m\u001b[0m\u001b[1;33m\u001b[0m\u001b[0m\n\u001b[1;32m--> 208\u001b[1;33m             \u001b[1;32mreturn\u001b[0m \u001b[0mfunc\u001b[0m\u001b[1;33m(\u001b[0m\u001b[1;33m*\u001b[0m\u001b[0margs\u001b[0m\u001b[1;33m,\u001b[0m \u001b[1;33m**\u001b[0m\u001b[0mkwargs\u001b[0m\u001b[1;33m)\u001b[0m\u001b[1;33m\u001b[0m\u001b[1;33m\u001b[0m\u001b[0m\n\u001b[0m\u001b[0;32m    209\u001b[0m \u001b[1;33m\u001b[0m\u001b[0m\n\u001b[0;32m    210\u001b[0m         \u001b[1;32mreturn\u001b[0m \u001b[0mwrapper\u001b[0m\u001b[1;33m\u001b[0m\u001b[1;33m\u001b[0m\u001b[0m\n",
      "\u001b[1;32m~\\AppData\\Local\\Continuum\\anaconda3\\lib\\site-packages\\pandas\\io\\excel\\_base.py\u001b[0m in \u001b[0;36mread_excel\u001b[1;34m(io, sheet_name, header, names, index_col, usecols, squeeze, dtype, engine, converters, true_values, false_values, skiprows, nrows, na_values, keep_default_na, verbose, parse_dates, date_parser, thousands, comment, skip_footer, skipfooter, convert_float, mangle_dupe_cols, **kwds)\u001b[0m\n\u001b[0;32m    308\u001b[0m \u001b[1;33m\u001b[0m\u001b[0m\n\u001b[0;32m    309\u001b[0m     \u001b[1;32mif\u001b[0m \u001b[1;32mnot\u001b[0m \u001b[0misinstance\u001b[0m\u001b[1;33m(\u001b[0m\u001b[0mio\u001b[0m\u001b[1;33m,\u001b[0m \u001b[0mExcelFile\u001b[0m\u001b[1;33m)\u001b[0m\u001b[1;33m:\u001b[0m\u001b[1;33m\u001b[0m\u001b[1;33m\u001b[0m\u001b[0m\n\u001b[1;32m--> 310\u001b[1;33m         \u001b[0mio\u001b[0m \u001b[1;33m=\u001b[0m \u001b[0mExcelFile\u001b[0m\u001b[1;33m(\u001b[0m\u001b[0mio\u001b[0m\u001b[1;33m,\u001b[0m \u001b[0mengine\u001b[0m\u001b[1;33m=\u001b[0m\u001b[0mengine\u001b[0m\u001b[1;33m)\u001b[0m\u001b[1;33m\u001b[0m\u001b[1;33m\u001b[0m\u001b[0m\n\u001b[0m\u001b[0;32m    311\u001b[0m     \u001b[1;32melif\u001b[0m \u001b[0mengine\u001b[0m \u001b[1;32mand\u001b[0m \u001b[0mengine\u001b[0m \u001b[1;33m!=\u001b[0m \u001b[0mio\u001b[0m\u001b[1;33m.\u001b[0m\u001b[0mengine\u001b[0m\u001b[1;33m:\u001b[0m\u001b[1;33m\u001b[0m\u001b[1;33m\u001b[0m\u001b[0m\n\u001b[0;32m    312\u001b[0m         raise ValueError(\n",
      "\u001b[1;32m~\\AppData\\Local\\Continuum\\anaconda3\\lib\\site-packages\\pandas\\io\\excel\\_base.py\u001b[0m in \u001b[0;36m__init__\u001b[1;34m(self, io, engine)\u001b[0m\n\u001b[0;32m    817\u001b[0m         \u001b[0mself\u001b[0m\u001b[1;33m.\u001b[0m\u001b[0m_io\u001b[0m \u001b[1;33m=\u001b[0m \u001b[0m_stringify_path\u001b[0m\u001b[1;33m(\u001b[0m\u001b[0mio\u001b[0m\u001b[1;33m)\u001b[0m\u001b[1;33m\u001b[0m\u001b[1;33m\u001b[0m\u001b[0m\n\u001b[0;32m    818\u001b[0m \u001b[1;33m\u001b[0m\u001b[0m\n\u001b[1;32m--> 819\u001b[1;33m         \u001b[0mself\u001b[0m\u001b[1;33m.\u001b[0m\u001b[0m_reader\u001b[0m \u001b[1;33m=\u001b[0m \u001b[0mself\u001b[0m\u001b[1;33m.\u001b[0m\u001b[0m_engines\u001b[0m\u001b[1;33m[\u001b[0m\u001b[0mengine\u001b[0m\u001b[1;33m]\u001b[0m\u001b[1;33m(\u001b[0m\u001b[0mself\u001b[0m\u001b[1;33m.\u001b[0m\u001b[0m_io\u001b[0m\u001b[1;33m)\u001b[0m\u001b[1;33m\u001b[0m\u001b[1;33m\u001b[0m\u001b[0m\n\u001b[0m\u001b[0;32m    820\u001b[0m \u001b[1;33m\u001b[0m\u001b[0m\n\u001b[0;32m    821\u001b[0m     \u001b[1;32mdef\u001b[0m \u001b[0m__fspath__\u001b[0m\u001b[1;33m(\u001b[0m\u001b[0mself\u001b[0m\u001b[1;33m)\u001b[0m\u001b[1;33m:\u001b[0m\u001b[1;33m\u001b[0m\u001b[1;33m\u001b[0m\u001b[0m\n",
      "\u001b[1;32m~\\AppData\\Local\\Continuum\\anaconda3\\lib\\site-packages\\pandas\\io\\excel\\_xlrd.py\u001b[0m in \u001b[0;36m__init__\u001b[1;34m(self, filepath_or_buffer)\u001b[0m\n\u001b[0;32m     19\u001b[0m         \u001b[0merr_msg\u001b[0m \u001b[1;33m=\u001b[0m \u001b[1;34m\"Install xlrd >= 1.0.0 for Excel support\"\u001b[0m\u001b[1;33m\u001b[0m\u001b[1;33m\u001b[0m\u001b[0m\n\u001b[0;32m     20\u001b[0m         \u001b[0mimport_optional_dependency\u001b[0m\u001b[1;33m(\u001b[0m\u001b[1;34m\"xlrd\"\u001b[0m\u001b[1;33m,\u001b[0m \u001b[0mextra\u001b[0m\u001b[1;33m=\u001b[0m\u001b[0merr_msg\u001b[0m\u001b[1;33m)\u001b[0m\u001b[1;33m\u001b[0m\u001b[1;33m\u001b[0m\u001b[0m\n\u001b[1;32m---> 21\u001b[1;33m         \u001b[0msuper\u001b[0m\u001b[1;33m(\u001b[0m\u001b[1;33m)\u001b[0m\u001b[1;33m.\u001b[0m\u001b[0m__init__\u001b[0m\u001b[1;33m(\u001b[0m\u001b[0mfilepath_or_buffer\u001b[0m\u001b[1;33m)\u001b[0m\u001b[1;33m\u001b[0m\u001b[1;33m\u001b[0m\u001b[0m\n\u001b[0m\u001b[0;32m     22\u001b[0m \u001b[1;33m\u001b[0m\u001b[0m\n\u001b[0;32m     23\u001b[0m     \u001b[1;33m@\u001b[0m\u001b[0mproperty\u001b[0m\u001b[1;33m\u001b[0m\u001b[1;33m\u001b[0m\u001b[0m\n",
      "\u001b[1;32m~\\AppData\\Local\\Continuum\\anaconda3\\lib\\site-packages\\pandas\\io\\excel\\_base.py\u001b[0m in \u001b[0;36m__init__\u001b[1;34m(self, filepath_or_buffer)\u001b[0m\n\u001b[0;32m    357\u001b[0m             \u001b[0mself\u001b[0m\u001b[1;33m.\u001b[0m\u001b[0mbook\u001b[0m \u001b[1;33m=\u001b[0m \u001b[0mself\u001b[0m\u001b[1;33m.\u001b[0m\u001b[0mload_workbook\u001b[0m\u001b[1;33m(\u001b[0m\u001b[0mfilepath_or_buffer\u001b[0m\u001b[1;33m)\u001b[0m\u001b[1;33m\u001b[0m\u001b[1;33m\u001b[0m\u001b[0m\n\u001b[0;32m    358\u001b[0m         \u001b[1;32melif\u001b[0m \u001b[0misinstance\u001b[0m\u001b[1;33m(\u001b[0m\u001b[0mfilepath_or_buffer\u001b[0m\u001b[1;33m,\u001b[0m \u001b[0mstr\u001b[0m\u001b[1;33m)\u001b[0m\u001b[1;33m:\u001b[0m\u001b[1;33m\u001b[0m\u001b[1;33m\u001b[0m\u001b[0m\n\u001b[1;32m--> 359\u001b[1;33m             \u001b[0mself\u001b[0m\u001b[1;33m.\u001b[0m\u001b[0mbook\u001b[0m \u001b[1;33m=\u001b[0m \u001b[0mself\u001b[0m\u001b[1;33m.\u001b[0m\u001b[0mload_workbook\u001b[0m\u001b[1;33m(\u001b[0m\u001b[0mfilepath_or_buffer\u001b[0m\u001b[1;33m)\u001b[0m\u001b[1;33m\u001b[0m\u001b[1;33m\u001b[0m\u001b[0m\n\u001b[0m\u001b[0;32m    360\u001b[0m         \u001b[1;32melse\u001b[0m\u001b[1;33m:\u001b[0m\u001b[1;33m\u001b[0m\u001b[1;33m\u001b[0m\u001b[0m\n\u001b[0;32m    361\u001b[0m             raise ValueError(\n",
      "\u001b[1;32m~\\AppData\\Local\\Continuum\\anaconda3\\lib\\site-packages\\pandas\\io\\excel\\_xlrd.py\u001b[0m in \u001b[0;36mload_workbook\u001b[1;34m(self, filepath_or_buffer)\u001b[0m\n\u001b[0;32m     34\u001b[0m             \u001b[1;32mreturn\u001b[0m \u001b[0mopen_workbook\u001b[0m\u001b[1;33m(\u001b[0m\u001b[0mfile_contents\u001b[0m\u001b[1;33m=\u001b[0m\u001b[0mdata\u001b[0m\u001b[1;33m)\u001b[0m\u001b[1;33m\u001b[0m\u001b[1;33m\u001b[0m\u001b[0m\n\u001b[0;32m     35\u001b[0m         \u001b[1;32melse\u001b[0m\u001b[1;33m:\u001b[0m\u001b[1;33m\u001b[0m\u001b[1;33m\u001b[0m\u001b[0m\n\u001b[1;32m---> 36\u001b[1;33m             \u001b[1;32mreturn\u001b[0m \u001b[0mopen_workbook\u001b[0m\u001b[1;33m(\u001b[0m\u001b[0mfilepath_or_buffer\u001b[0m\u001b[1;33m)\u001b[0m\u001b[1;33m\u001b[0m\u001b[1;33m\u001b[0m\u001b[0m\n\u001b[0m\u001b[0;32m     37\u001b[0m \u001b[1;33m\u001b[0m\u001b[0m\n\u001b[0;32m     38\u001b[0m     \u001b[1;33m@\u001b[0m\u001b[0mproperty\u001b[0m\u001b[1;33m\u001b[0m\u001b[1;33m\u001b[0m\u001b[0m\n",
      "\u001b[1;32m~\\AppData\\Local\\Continuum\\anaconda3\\lib\\site-packages\\xlrd\\__init__.py\u001b[0m in \u001b[0;36mopen_workbook\u001b[1;34m(filename, logfile, verbosity, use_mmap, file_contents, encoding_override, formatting_info, on_demand, ragged_rows)\u001b[0m\n\u001b[0;32m    109\u001b[0m     \u001b[1;32melse\u001b[0m\u001b[1;33m:\u001b[0m\u001b[1;33m\u001b[0m\u001b[1;33m\u001b[0m\u001b[0m\n\u001b[0;32m    110\u001b[0m         \u001b[0mfilename\u001b[0m \u001b[1;33m=\u001b[0m \u001b[0mos\u001b[0m\u001b[1;33m.\u001b[0m\u001b[0mpath\u001b[0m\u001b[1;33m.\u001b[0m\u001b[0mexpanduser\u001b[0m\u001b[1;33m(\u001b[0m\u001b[0mfilename\u001b[0m\u001b[1;33m)\u001b[0m\u001b[1;33m\u001b[0m\u001b[1;33m\u001b[0m\u001b[0m\n\u001b[1;32m--> 111\u001b[1;33m         \u001b[1;32mwith\u001b[0m \u001b[0mopen\u001b[0m\u001b[1;33m(\u001b[0m\u001b[0mfilename\u001b[0m\u001b[1;33m,\u001b[0m \u001b[1;34m\"rb\"\u001b[0m\u001b[1;33m)\u001b[0m \u001b[1;32mas\u001b[0m \u001b[0mf\u001b[0m\u001b[1;33m:\u001b[0m\u001b[1;33m\u001b[0m\u001b[1;33m\u001b[0m\u001b[0m\n\u001b[0m\u001b[0;32m    112\u001b[0m             \u001b[0mpeek\u001b[0m \u001b[1;33m=\u001b[0m \u001b[0mf\u001b[0m\u001b[1;33m.\u001b[0m\u001b[0mread\u001b[0m\u001b[1;33m(\u001b[0m\u001b[0mpeeksz\u001b[0m\u001b[1;33m)\u001b[0m\u001b[1;33m\u001b[0m\u001b[1;33m\u001b[0m\u001b[0m\n\u001b[0;32m    113\u001b[0m     \u001b[1;32mif\u001b[0m \u001b[0mpeek\u001b[0m \u001b[1;33m==\u001b[0m \u001b[1;34mb\"PK\\x03\\x04\"\u001b[0m\u001b[1;33m:\u001b[0m \u001b[1;31m# a ZIP file\u001b[0m\u001b[1;33m\u001b[0m\u001b[1;33m\u001b[0m\u001b[0m\n",
      "\u001b[1;31mFileNotFoundError\u001b[0m: [Errno 2] No such file or directory: '.\\\\Escherichia coli\\\\Molecular function\\\\uniprot_GO_0003824.xlsx'"
     ]
    }
   ],
   "source": [
    "\n",
    "organim = organisms[0]\n",
    "for go in gene_ontology:\n",
    "    df_collection = [] \n",
    "    for sub_go in go[1]:\n",
    "        file = r'.\\%s\\%s\\uniprot_%s.xlsx' % (organim[0],go[0], sub_go[0])\n",
    "        df_t,known = find_freq(pd.read_excel(file))\n",
    "\n",
    "        if known >= 30:\n",
    "            df_t[\"GO\"] = sub_go[1]\n",
    "            df_t[\"GO group\"] = go[0]\n",
    "            df_collection.append(df_t)\n",
    "\n",
    "    df_all = pd.concat(df_collection)\n",
    "\n",
    "    res_file_name = r'.\\%s\\%s\\uniprot_report' % (organim[0],go[0])\n",
    "    save_excel(df_all, res_file_name + '.xlsx')\n",
    "\n",
    "\n",
    "    plt.figure()\n",
    "    sns.lineplot(data=df_all, x = \"subunits\", y = \"frequency\", hue=\"GO\", style='GO', \n",
    "                 linewidth=1.5, markers=True, dashes=True).set_title(go[0]) \n",
    "    plt.savefig(res_file_name + '.png')\n",
    "    "
   ]
  },
  {
   "cell_type": "markdown",
   "metadata": {},
   "source": [
    "# 9. Procedure that calculate homo-oligomers distribution over proteome for all organisms listed before"
   ]
  },
  {
   "cell_type": "code",
   "execution_count": null,
   "metadata": {
    "collapsed": true
   },
   "outputs": [],
   "source": [
    "df_freq_proteome = pd.DataFrame() \n",
    "df_freq_proteome_ex = pd.DataFrame()  \n",
    "\n",
    "for i,organim in enumerate(organisms):\n",
    "    \n",
    "    file = r'.\\%s\\uniprot-proteome_%s.xlsx' % (organim[0],organim[1])\n",
    "    df_org,known = find_freq(pd.read_excel(file))\n",
    "    df_org.drop('type',axis=1, inplace=True)\n",
    "    df_org.drop('count',axis=1, inplace=True)\n",
    "    df_org[\"organism\"] = organim[0]\n",
    "    df_freq_proteome = pd.concat([df_freq_proteome, df_org])\n",
    "    df_freq_proteome_ex = pd.concat([df_freq_proteome_ex, \n",
    "                                     df_org.pivot_table(\"frequency\", 'organism', 'subunits')])\n",
    "\n",
    "save_excel(df_freq_proteome_ex, 'proteome_freq.xlsx')"
   ]
  },
  {
   "cell_type": "markdown",
   "metadata": {},
   "source": [
    "# 10. Box plot with medians homo-oligomers distribution over proteome"
   ]
  },
  {
   "cell_type": "code",
   "execution_count": null,
   "metadata": {},
   "outputs": [],
   "source": [
    "plt.figure(figsize=(15,10))\n",
    "ax = sns.boxplot(x=\"subunits\", y = \"frequency\", data = df_freq_proteome)\n",
    "\n",
    "medians = df_freq_proteome.groupby(['subunits'])['frequency'].median().values\n",
    "median_labels = [str(np.round(s, 2)) for s in medians]\n",
    "\n",
    "pos = range(len(medians))\n",
    "for tick,label in zip(pos,ax.get_xticklabels()):\n",
    "    ax.text(pos[tick], medians[tick], median_labels[tick], \n",
    "            horizontalalignment='center', color='w', weight='semibold')\n",
    "    \n",
    "plt.savefig('proteome_freq1.png')\n"
   ]
  },
  {
   "cell_type": "markdown",
   "metadata": {},
   "source": [
    "# 11. Line plot with medians homo-oligomers distribution over proteome"
   ]
  },
  {
   "cell_type": "code",
   "execution_count": null,
   "metadata": {},
   "outputs": [],
   "source": [
    "size=9\n",
    "dash_styles = [(2,2) for x in range(size)] \n",
    "marker_styles = ['o' for x in range(size)] \n",
    "\n",
    "plt.figure()\n",
    "sns.lineplot(data=df_freq_proteome, x = \"subunits\", y = \"frequency\", \n",
    "             hue=\"organism\", linewidth=1,\n",
    "             style=\"organism\", \n",
    "             markers=marker_styles, dashes=dash_styles).set_title(\"All proteins in proteome\") \n",
    "plt.savefig('proteome_freq2.png')"
   ]
  }
 ],
 "metadata": {
  "kernelspec": {
   "display_name": "Python 3",
   "language": "python",
   "name": "python3"
  },
  "language_info": {
   "codemirror_mode": {
    "name": "ipython",
    "version": 3
   },
   "file_extension": ".py",
   "mimetype": "text/x-python",
   "name": "python",
   "nbconvert_exporter": "python",
   "pygments_lexer": "ipython3",
   "version": "3.7.4"
  },
  "widgets": {
   "state": {},
   "version": "1.1.2"
  }
 },
 "nbformat": 4,
 "nbformat_minor": 2
}
